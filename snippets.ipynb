{
 "cells": [
  {
   "cell_type": "code",
   "execution_count": null,
   "metadata": {},
   "outputs": [
    {
     "ename": "",
     "evalue": "",
     "output_type": "error",
     "traceback": [
      "\u001b[1;31mRunning cells with '/bin/python3' requires the ipykernel package.\n",
      "\u001b[1;31mRun the following command to install 'ipykernel' into the Python environment. \n",
      "\u001b[1;31mCommand: '/bin/python3 -m pip install ipykernel -U --user --force-reinstall'"
     ]
    }
   ],
   "source": [
    "from gerrard import JointPos\n",
    "\n",
    "# Define the joint positions\n",
    "j1 = JointPos(1, 2, 3, 4, 5, 6)\n",
    "j2 = JointPos(6, 5, 4, 3, 2, 1)\n",
    "\n",
    "# Print the joint positions\n",
    "print(j1)\n",
    "print(j2)\n",
    "\n",
    "# Add the joint positions\n",
    "j3 = j1 + j2\n",
    "print(j3)\n",
    "\n",
    "# Subtract the joint positions\n",
    "j4 = j1 - j2\n",
    "print(j4)\n",
    "\n",
    "# Multiply the joint positions\n",
    "j5 = j1 * 2\n",
    "print(j5)\n",
    "\n",
    "# Divide the joint positions\n",
    "j6 = j1 / 2\n",
    "print(j6)\n",
    "\n",
    "# Compare the joint positions\n",
    "print(j1 == j2)\n",
    "print(j1 != j2)\n",
    "\n",
    "# Get the joint positions as a list\n",
    "print(list(j1))\n",
    "\n",
    "print(j1[0])\n",
    "\n",
    "print(j1[0:3])\n"
   ]
  }
 ],
 "metadata": {
  "kernelspec": {
   "display_name": ".venv",
   "language": "python",
   "name": "python3"
  },
  "language_info": {
   "codemirror_mode": {
    "name": "ipython",
    "version": 3
   },
   "file_extension": ".py",
   "mimetype": "text/x-python",
   "name": "python",
   "nbconvert_exporter": "python",
   "pygments_lexer": "ipython3",
   "version": "3.10.12"
  }
 },
 "nbformat": 4,
 "nbformat_minor": 2
}
